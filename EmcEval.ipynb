{
 "cells": [
  {
   "cell_type": "code",
   "execution_count": 1,
   "metadata": {},
   "outputs": [],
   "source": [
    "%matplotlib inline\n",
    "\n",
    "import numpy as np\n",
    "import pandas as pd\n",
    "import matplotlib.pyplot as plt\n",
    "import matplotlib as mpl\n",
    "import seaborn as sns\n",
    "import datetime"
   ]
  },
  {
   "cell_type": "markdown",
   "metadata": {},
   "source": [
    "## Helper functions for graphical representations and further data analysis"
   ]
  },
  {
   "cell_type": "markdown",
   "metadata": {},
   "source": [
    "#### Dual boxplots for 2 act tool streams"
   ]
  },
  {
   "cell_type": "code",
   "execution_count": 2,
   "metadata": {},
   "outputs": [],
   "source": [
    "def act_boxplot( df, stream_a, stream_b, save = False, name = \"Dual_boxplot\"):\n",
    "#     dpi = 600\n",
    "#     fig, axarr = plt.subplots(1, 2, figsize=(8, 12), dpi=dpi)\n",
    "    fig, axarr = plt.subplots(1, 2, figsize=(8, 12))\n",
    "    bplot_L=sns.boxplot( y=df[stream_a],\n",
    "                     width=0.5,\n",
    "    #                  palette=\"colorblind\",\n",
    "                     ax=axarr[0],\n",
    "                     color=\"g\")\n",
    "    bplot_L=sns.despine(offset=10, trim=True, ax=axarr[0])\n",
    "    bplot_L=sns.stripplot(y=df[stream_a],\n",
    "                       jitter=True, \n",
    "                       marker='o', \n",
    "                       alpha=0.01,\n",
    "                       color='black',\n",
    "                       ax=axarr[0])\n",
    "    bplot_W=sns.boxplot( y=df[stream_b],\n",
    "                     width=0.5,\n",
    "    #                  palette=\"colorblind\",\n",
    "                     ax=axarr[1],\n",
    "                     color=\"b\")\n",
    "    bplot_W=sns.despine(offset=10, trim=True, ax=axarr[1])\n",
    "    bplot_W=sns.stripplot(y=df[stream_b],\n",
    "                       jitter=True, \n",
    "                       marker='o', \n",
    "                       alpha=0.01,\n",
    "                       color='black',\n",
    "                       ax=axarr[1])\n",
    "    d_time = datetime.datetime.now().strftime(\"%y-%m-%d-%H-%M\")\n",
    "    if save:\n",
    "        folder = '.\\Data\\\\'\n",
    "        filename = folder + d_time + '_' + name + '_' + stream_a + '_' + stream_b + '.png'\n",
    "        plt.savefig(filename)"
   ]
  },
  {
   "cell_type": "markdown",
   "metadata": {},
   "source": [
    "#### Boxplot and histogram for 1 act tool stream"
   ]
  },
  {
   "cell_type": "code",
   "execution_count": 3,
   "metadata": {},
   "outputs": [],
   "source": [
    "def act_hist_box(df, stream_a, **kwargs):\n",
    "\n",
    "    arg_dict = {\n",
    "        'save' : False,\n",
    "        'name' : 'Boxplot_and_Histogram'\n",
    "    }\n",
    "    \n",
    "    for key, value in arg_dict.items():\n",
    "        if key in kwargs:\n",
    "            arg_dict[key] = kwargs[key]\n",
    "            \n",
    "    # Cut the window in 2 parts\n",
    "    f, (ax_box, ax_hist) = plt.subplots(2, sharex=True, gridspec_kw={\"height_ratios\": (.15, .85)})\n",
    "\n",
    "    # Add a graph in each part\n",
    "    sns.boxplot(df[stream_a], ax=ax_box)\n",
    "    sns.distplot(df[stream_a], ax=ax_hist)\n",
    "\n",
    "    # Remove x axis name for the boxplot\n",
    "    text = ax_box.set(xlabel='')\n",
    "    \n",
    "    # save to file\n",
    "    d_time = datetime.datetime.now().strftime(\"%y-%m-%d-%H-%M\")\n",
    "    if arg_dict['save']:\n",
    "        folder = '.\\Data\\\\'\n",
    "        filename = folder + d_time + '_' + arg_dict['name'] + '_' + stream_a + '.png'\n",
    "        plt.savefig(filename)"
   ]
  },
  {
   "cell_type": "markdown",
   "metadata": {},
   "source": [
    "#### Line plot drawing to merging frequencies and stream data"
   ]
  },
  {
   "cell_type": "code",
   "execution_count": 4,
   "metadata": {},
   "outputs": [],
   "source": [
    "def emc_line_plot(df_plot, y_a, stream_dict, label_dict, plot_title, y_a_label, **kwargs):\n",
    "    \n",
    "    if stream_dict['min']<=stream_dict['lsl']:\n",
    "        y_str_lim_a = stream_dict['min'] - 50\n",
    "    else:\n",
    "        y_str_lim_a = stream_dict['lsl'] - 50\n",
    "    if stream_dict['max']>=stream_dict['usl']:\n",
    "        y_str_lim_b = stream_dict['max'] + 50\n",
    "    else:\n",
    "        y_str_lim_b = stream_dict['usl'] + 50\n",
    "       \n",
    "    arg_dict = {\n",
    "        'save' : False,\n",
    "        'name' : 'Emc_Line_Plot',\n",
    "        'process_window' : (300, 60000),\n",
    "    }\n",
    "\n",
    "    for key, value in arg_dict.items():\n",
    "        if key in kwargs:\n",
    "            arg_dict[key] = kwargs[key]\n",
    "    \n",
    "    fig, ax = plt.subplots(figsize=(20, 10))\n",
    "    ax.set(xlim=arg_dict['process_window'], ylim=(y_str_lim_a, y_str_lim_b), \\\n",
    "           xlabel='Time[ms]', ylabel=y_a_label, title=plot_title)\n",
    "    ax.axhline(stream_dict['usl'], color=\"r\", linestyle=\"--\", label = 'USL')\n",
    "    ax.axhline(stream_dict['lsl'], color=\"r\", linestyle=\"--\", label = 'LSL')\n",
    "    ax2 = ax.twinx()\n",
    "    ax2.set(ylim=(0, 1.1), ylabel='Freq[on/off]')\n",
    "    ax2.grid(False)\n",
    "    ax.plot( 'key', y_a, data=df_plot, marker='', color='skyblue', linewidth=2)\n",
    "    ax2.plot('key', 'freq_mark', data=df_plot, marker='', color='olive', linewidth=2)    \n",
    "    plt.style.use('seaborn-darkgrid')\n",
    "    plt.rcParams['font.sans-serif'] = 'Arial'\n",
    "    plt.rcParams['font.family'] = 'sans-serif'\n",
    "    plt.rcParams['text.color'] = '#909090'\n",
    "    plt.rcParams['axes.labelcolor']= '#909090'\n",
    "    plt.rcParams['xtick.color'] = '#909090'\n",
    "    plt.rcParams['ytick.color'] = '#909090'\n",
    "    plt.rcParams['font.size']=14\n",
    "    color_palette_list = ['#009ACD', '#ADD8E6', '#63D1F4', '#0EBFE9',   \n",
    "                          '#C1F0F6', '#0099CC']\n",
    "    \n",
    "    # adding labbels to each frequency\n",
    "    for key, value in label_dict.items():\n",
    "        if value['key'] > arg_dict['process_window'][1]:\n",
    "            break\n",
    "        ax2.annotate(value['freq_label'],\n",
    "            xy=(value['key'], 1), xycoords='data',\n",
    "            xytext=(-100, -100), textcoords='offset points',\n",
    "            arrowprops=dict(arrowstyle=\"->\",\n",
    "                            connectionstyle=\"arc,angleA=0,armA=40,angleB=-90,armB=10,rad=7\"))\n",
    "    plt.style.use('seaborn-darkgrid')\n",
    "    ax.legend(frameon=False, loc='upper left', ncol=3)\n",
    "    ax2.legend(frameon=False, loc='upper right', ncol=1)\n",
    "    \n",
    "    # save to file\n",
    "    d_time = datetime.datetime.now().strftime(\"%y-%m-%d-%H-%M\")\n",
    "    if arg_dict['save']:\n",
    "        folder = '.\\Data\\\\'\n",
    "        filename = folder + d_time + '_' + arg_dict['name'] + '_' + y_a_label + '.png'\n",
    "        plt.savefig(filename)\n",
    "    plt.show()"
   ]
  },
  {
   "cell_type": "markdown",
   "metadata": {},
   "source": [
    "#### Emc results scatter plot"
   ]
  },
  {
   "cell_type": "code",
   "execution_count": 5,
   "metadata": {},
   "outputs": [],
   "source": [
    "def emc_scatter_plot(df_plot, plot_title, stream_spec, **kwargs):\n",
    "    \n",
    "    arg_dict = {\n",
    "        'save' : False,\n",
    "        'name' : 'Emc_Scatter_Plot',\n",
    "        'x_process_window' : (0, 100000),\n",
    "        'y_process_window' : (120000, 300000)\n",
    "    }\n",
    "    \n",
    "    for key, value in arg_dict.items():\n",
    "        if key in kwargs:\n",
    "            arg_dict[key] = kwargs[key]\n",
    "    \n",
    "    fig, ax = plt.subplots(figsize=(20, 10))\n",
    "    \n",
    "    df_nok = df_plot[(df_plot['freq']!=0) & (df_plot[stream_spec]==0)].drop_duplicates(['freq'], keep='first')\n",
    "    df_ok = df_plot[(df_plot['freq']!=0) & (df_plot[stream_spec]==1)].drop_duplicates(['freq'], keep='first')\n",
    "    \n",
    "    ax.scatter(x='key', y='freq', c = 'r', data= df_nok, \n",
    "               s=500, alpha=0.8)\n",
    "    ax.scatter(x='key', y='freq', c = 'g', data= df_ok, \n",
    "               s=500, alpha=0.3)\n",
    "    ax.set(xlim=arg_dict['x_process_window'], ylim=arg_dict['y_process_window'],\n",
    "           xlabel='Time[ms]', ylabel='Frequency[Hz]',\n",
    "           title=plot_title)\n",
    "    plt.style.use('seaborn-darkgrid')\n",
    "    plt.rcParams['font.sans-serif'] = 'Arial'\n",
    "    plt.rcParams['font.family'] = 'sans-serif'\n",
    "    plt.rcParams['text.color'] = '#909090'\n",
    "    plt.rcParams['axes.labelcolor']= '#909090'\n",
    "    plt.rcParams['xtick.color'] = '#909090'\n",
    "    plt.rcParams['ytick.color'] = '#909090'\n",
    "    plt.rcParams['font.size']=14\n",
    "    color_palette_list = ['#009ACD', '#ADD8E6', '#63D1F4', '#0EBFE9',   \n",
    "                          '#C1F0F6', '#0099CC']\n",
    "    ax.legend(frameon=False, loc='upper left', ncol=2)\n",
    "    d_time = datetime.datetime.now().strftime(\"%y-%m-%d-%H-%M\")\n",
    "    if arg_dict['save']:\n",
    "        folder = '.\\Data\\\\'\n",
    "        filename = folder + d_time + '_' + arg_dict['name'] + '_' + stream_spec + '.png'\n",
    "        plt.savefig(filename)\n",
    "    plt.show()"
   ]
  },
  {
   "cell_type": "markdown",
   "metadata": {},
   "source": [
    "#### Check if stream in spec"
   ]
  },
  {
   "cell_type": "code",
   "execution_count": 6,
   "metadata": {},
   "outputs": [],
   "source": [
    "def check_spec(item, usl, lsl):\n",
    "    if item < usl and item > lsl:\n",
    "        return True\n",
    "    else:\n",
    "        return False"
   ]
  },
  {
   "cell_type": "markdown",
   "metadata": {},
   "source": [
    "#### Shift values in selected columns"
   ]
  },
  {
   "cell_type": "code",
   "execution_count": 7,
   "metadata": {},
   "outputs": [],
   "source": [
    "def shift_values(df, columns,lag):\n",
    "    '''\n",
    "    The function returns a new data frame with added new colums with a shifted value\n",
    "    df: data frame \n",
    "    coulmns: a list of columns to be shifted\n",
    "    lag: how many indexes in row columns will be shifted\n",
    "    '''\n",
    "    lags = (lag, lag)\n",
    "    dfr= df.assign(**{\n",
    "        '{}(t-{})'.format(col, t): df[col].shift(t)\n",
    "        for t in lags\n",
    "        for col in columns\n",
    "    })\n",
    "    return dfr"
   ]
  },
  {
   "cell_type": "markdown",
   "metadata": {},
   "source": [
    "#### Add frequency labels"
   ]
  },
  {
   "cell_type": "code",
   "execution_count": 10,
   "metadata": {},
   "outputs": [],
   "source": [
    "def do_freq_label(freq):\n",
    "    if freq/1000000>=1:\n",
    "        return str(freq/1000000) + \"MHz\"\n",
    "    else:\n",
    "        if freq/1000>=1:\n",
    "            return str(freq/1000) + \"kHz\"\n",
    "        else:\n",
    "            return str(freq)"
   ]
  },
  {
   "cell_type": "code",
   "execution_count": 11,
   "metadata": {},
   "outputs": [],
   "source": [
    "import DataReader as dtrd\n",
    "import FrequencyFinder as freq"
   ]
  },
  {
   "cell_type": "markdown",
   "metadata": {},
   "source": [
    "## ACT tool and Generator logs import using helper classes in DataReader script."
   ]
  },
  {
   "cell_type": "code",
   "execution_count": 15,
   "metadata": {},
   "outputs": [],
   "source": [
    "act_tool_log = \"Test_results\"\n",
    "generator_log = \"Monitor\""
   ]
  },
  {
   "cell_type": "code",
   "execution_count": 16,
   "metadata": {},
   "outputs": [],
   "source": [
    "act_tool = dtrd.ActToolLog(act_tool_log)\n",
    "act_tool.read_act_tool_log()\n",
    "act_tool.csv_write()"
   ]
  },
  {
   "cell_type": "code",
   "execution_count": 17,
   "metadata": {},
   "outputs": [],
   "source": [
    "generator = dtrd.GeneratorLog(generator_log)\n",
    "generator.read_generator_log()\n",
    "generator.csv_write()"
   ]
  },
  {
   "cell_type": "code",
   "execution_count": 18,
   "metadata": {},
   "outputs": [],
   "source": [
    "ff = freq.FrequencyFinder(generator.monitor)"
   ]
  },
  {
   "cell_type": "markdown",
   "metadata": {},
   "source": [
    "### Dictionaries"
   ]
  },
  {
   "cell_type": "code",
   "execution_count": 19,
   "metadata": {},
   "outputs": [
    {
     "data": {
      "text/plain": [
       "['act_time_ms', 'time', 'n_des_gov', 'engine_rpm', 'act_tool_id']"
      ]
     },
     "execution_count": 19,
     "metadata": {},
     "output_type": "execute_result"
    }
   ],
   "source": [
    "act_tool.header"
   ]
  },
  {
   "cell_type": "code",
   "execution_count": 20,
   "metadata": {},
   "outputs": [
    {
     "data": {
      "text/plain": [
       "{'start': 'time', 'stop': '*'}"
      ]
     },
     "execution_count": 20,
     "metadata": {},
     "output_type": "execute_result"
    }
   ],
   "source": [
    "act_tool.act_tool"
   ]
  },
  {
   "cell_type": "code",
   "execution_count": 21,
   "metadata": {},
   "outputs": [
    {
     "data": {
      "text/plain": [
       "['gen_time_ms', 'time_accu', 'command', 'value', 'monitor_id']"
      ]
     },
     "execution_count": 21,
     "metadata": {},
     "output_type": "execute_result"
    }
   ],
   "source": [
    "generator.header[0]"
   ]
  },
  {
   "cell_type": "code",
   "execution_count": 22,
   "metadata": {},
   "outputs": [
    {
     "data": {
      "text/plain": [
       "{'start': 'ms:-> on',\n",
       " 'stop': 'End:',\n",
       " 'marker_off': 'to:gen:att',\n",
       " 'generate': 'to:start',\n",
       " 'frq_marker': 'to:gen:frq'}"
      ]
     },
     "execution_count": 22,
     "metadata": {},
     "output_type": "execute_result"
    }
   ],
   "source": [
    "generator.monitor"
   ]
  },
  {
   "cell_type": "markdown",
   "metadata": {},
   "source": [
    "### Read CSV files written previously to \\Data\\ subfolder"
   ]
  },
  {
   "cell_type": "code",
   "execution_count": 23,
   "metadata": {},
   "outputs": [],
   "source": [
    "data = pd.read_csv(act_tool.csv_file_path)"
   ]
  },
  {
   "cell_type": "code",
   "execution_count": 24,
   "metadata": {},
   "outputs": [],
   "source": [
    "data_b = pd.read_csv(generator.csv_file_path)"
   ]
  },
  {
   "cell_type": "markdown",
   "metadata": {},
   "source": [
    "#### Checking read data"
   ]
  },
  {
   "cell_type": "code",
   "execution_count": 25,
   "metadata": {},
   "outputs": [
    {
     "data": {
      "text/html": [
       "<div>\n",
       "<style scoped>\n",
       "    .dataframe tbody tr th:only-of-type {\n",
       "        vertical-align: middle;\n",
       "    }\n",
       "\n",
       "    .dataframe tbody tr th {\n",
       "        vertical-align: top;\n",
       "    }\n",
       "\n",
       "    .dataframe thead th {\n",
       "        text-align: right;\n",
       "    }\n",
       "</style>\n",
       "<table border=\"1\" class=\"dataframe\">\n",
       "  <thead>\n",
       "    <tr style=\"text-align: right;\">\n",
       "      <th></th>\n",
       "      <th>act_time_ms</th>\n",
       "      <th>time</th>\n",
       "      <th>n_des_gov</th>\n",
       "      <th>engine_rpm</th>\n",
       "      <th>act_tool_id</th>\n",
       "    </tr>\n",
       "  </thead>\n",
       "  <tbody>\n",
       "    <tr>\n",
       "      <th>0</th>\n",
       "      <td>0</td>\n",
       "      <td>0.0</td>\n",
       "      <td>3119.3</td>\n",
       "      <td>3125.0</td>\n",
       "      <td>1</td>\n",
       "    </tr>\n",
       "    <tr>\n",
       "      <th>1</th>\n",
       "      <td>1</td>\n",
       "      <td>0.1</td>\n",
       "      <td>3138.3</td>\n",
       "      <td>3125.0</td>\n",
       "      <td>2</td>\n",
       "    </tr>\n",
       "    <tr>\n",
       "      <th>2</th>\n",
       "      <td>2</td>\n",
       "      <td>0.1</td>\n",
       "      <td>3138.3</td>\n",
       "      <td>3125.0</td>\n",
       "      <td>2</td>\n",
       "    </tr>\n",
       "    <tr>\n",
       "      <th>3</th>\n",
       "      <td>3</td>\n",
       "      <td>0.1</td>\n",
       "      <td>3138.3</td>\n",
       "      <td>3125.0</td>\n",
       "      <td>2</td>\n",
       "    </tr>\n",
       "    <tr>\n",
       "      <th>4</th>\n",
       "      <td>4</td>\n",
       "      <td>0.1</td>\n",
       "      <td>3138.3</td>\n",
       "      <td>3125.0</td>\n",
       "      <td>2</td>\n",
       "    </tr>\n",
       "  </tbody>\n",
       "</table>\n",
       "</div>"
      ],
      "text/plain": [
       "   act_time_ms  time  n_des_gov  engine_rpm  act_tool_id\n",
       "0            0   0.0     3119.3      3125.0            1\n",
       "1            1   0.1     3138.3      3125.0            2\n",
       "2            2   0.1     3138.3      3125.0            2\n",
       "3            3   0.1     3138.3      3125.0            2\n",
       "4            4   0.1     3138.3      3125.0            2"
      ]
     },
     "execution_count": 25,
     "metadata": {},
     "output_type": "execute_result"
    }
   ],
   "source": [
    "data.head()"
   ]
  },
  {
   "cell_type": "code",
   "execution_count": 26,
   "metadata": {},
   "outputs": [
    {
     "data": {
      "text/html": [
       "<div>\n",
       "<style scoped>\n",
       "    .dataframe tbody tr th:only-of-type {\n",
       "        vertical-align: middle;\n",
       "    }\n",
       "\n",
       "    .dataframe tbody tr th {\n",
       "        vertical-align: top;\n",
       "    }\n",
       "\n",
       "    .dataframe thead th {\n",
       "        text-align: right;\n",
       "    }\n",
       "</style>\n",
       "<table border=\"1\" class=\"dataframe\">\n",
       "  <thead>\n",
       "    <tr style=\"text-align: right;\">\n",
       "      <th></th>\n",
       "      <th>act_time_ms</th>\n",
       "      <th>time</th>\n",
       "      <th>n_des_gov</th>\n",
       "      <th>engine_rpm</th>\n",
       "      <th>act_tool_id</th>\n",
       "    </tr>\n",
       "  </thead>\n",
       "  <tbody>\n",
       "    <tr>\n",
       "      <th>9996</th>\n",
       "      <td>9996</td>\n",
       "      <td>10.0</td>\n",
       "      <td>3100.0</td>\n",
       "      <td>3125.0</td>\n",
       "      <td>101</td>\n",
       "    </tr>\n",
       "    <tr>\n",
       "      <th>9997</th>\n",
       "      <td>9997</td>\n",
       "      <td>10.0</td>\n",
       "      <td>3100.0</td>\n",
       "      <td>3125.0</td>\n",
       "      <td>101</td>\n",
       "    </tr>\n",
       "    <tr>\n",
       "      <th>9998</th>\n",
       "      <td>9998</td>\n",
       "      <td>10.0</td>\n",
       "      <td>3100.0</td>\n",
       "      <td>3125.0</td>\n",
       "      <td>101</td>\n",
       "    </tr>\n",
       "    <tr>\n",
       "      <th>9999</th>\n",
       "      <td>9999</td>\n",
       "      <td>10.0</td>\n",
       "      <td>3100.0</td>\n",
       "      <td>3125.0</td>\n",
       "      <td>101</td>\n",
       "    </tr>\n",
       "    <tr>\n",
       "      <th>10000</th>\n",
       "      <td>10000</td>\n",
       "      <td>10.0</td>\n",
       "      <td>3100.0</td>\n",
       "      <td>3125.0</td>\n",
       "      <td>101</td>\n",
       "    </tr>\n",
       "  </tbody>\n",
       "</table>\n",
       "</div>"
      ],
      "text/plain": [
       "       act_time_ms  time  n_des_gov  engine_rpm  act_tool_id\n",
       "9996          9996  10.0     3100.0      3125.0          101\n",
       "9997          9997  10.0     3100.0      3125.0          101\n",
       "9998          9998  10.0     3100.0      3125.0          101\n",
       "9999          9999  10.0     3100.0      3125.0          101\n",
       "10000        10000  10.0     3100.0      3125.0          101"
      ]
     },
     "execution_count": 26,
     "metadata": {},
     "output_type": "execute_result"
    }
   ],
   "source": [
    "data.tail()"
   ]
  },
  {
   "cell_type": "code",
   "execution_count": 27,
   "metadata": {},
   "outputs": [
    {
     "name": "stdout",
     "output_type": "stream",
     "text": [
      "<class 'pandas.core.frame.DataFrame'>\n",
      "RangeIndex: 10001 entries, 0 to 10000\n",
      "Data columns (total 5 columns):\n",
      "act_time_ms    10001 non-null int64\n",
      "time           10001 non-null float64\n",
      "n_des_gov      10001 non-null float64\n",
      "engine_rpm     10001 non-null float64\n",
      "act_tool_id    10001 non-null int64\n",
      "dtypes: float64(3), int64(2)\n",
      "memory usage: 390.7 KB\n"
     ]
    }
   ],
   "source": [
    "data.info()"
   ]
  },
  {
   "cell_type": "code",
   "execution_count": 28,
   "metadata": {},
   "outputs": [
    {
     "data": {
      "text/plain": [
       "(10001, 5)"
      ]
     },
     "execution_count": 28,
     "metadata": {},
     "output_type": "execute_result"
    }
   ],
   "source": [
    "data.shape"
   ]
  },
  {
   "cell_type": "code",
   "execution_count": 29,
   "metadata": {},
   "outputs": [
    {
     "data": {
      "text/html": [
       "<div>\n",
       "<style scoped>\n",
       "    .dataframe tbody tr th:only-of-type {\n",
       "        vertical-align: middle;\n",
       "    }\n",
       "\n",
       "    .dataframe tbody tr th {\n",
       "        vertical-align: top;\n",
       "    }\n",
       "\n",
       "    .dataframe thead th {\n",
       "        text-align: right;\n",
       "    }\n",
       "</style>\n",
       "<table border=\"1\" class=\"dataframe\">\n",
       "  <thead>\n",
       "    <tr style=\"text-align: right;\">\n",
       "      <th></th>\n",
       "      <th>act_time_ms</th>\n",
       "      <th>time</th>\n",
       "      <th>n_des_gov</th>\n",
       "      <th>engine_rpm</th>\n",
       "      <th>act_tool_id</th>\n",
       "    </tr>\n",
       "  </thead>\n",
       "  <tbody>\n",
       "    <tr>\n",
       "      <th>count</th>\n",
       "      <td>10001.000000</td>\n",
       "      <td>10001.000000</td>\n",
       "      <td>10001.000000</td>\n",
       "      <td>10001.000000</td>\n",
       "      <td>10001.000000</td>\n",
       "    </tr>\n",
       "    <tr>\n",
       "      <th>mean</th>\n",
       "      <td>5000.000000</td>\n",
       "      <td>5.049495</td>\n",
       "      <td>2261.000830</td>\n",
       "      <td>2250.087491</td>\n",
       "      <td>51.494951</td>\n",
       "    </tr>\n",
       "    <tr>\n",
       "      <th>std</th>\n",
       "      <td>2887.184355</td>\n",
       "      <td>2.887049</td>\n",
       "      <td>920.129503</td>\n",
       "      <td>875.043745</td>\n",
       "      <td>28.870487</td>\n",
       "    </tr>\n",
       "    <tr>\n",
       "      <th>min</th>\n",
       "      <td>0.000000</td>\n",
       "      <td>0.000000</td>\n",
       "      <td>1050.900000</td>\n",
       "      <td>1375.000000</td>\n",
       "      <td>1.000000</td>\n",
       "    </tr>\n",
       "    <tr>\n",
       "      <th>25%</th>\n",
       "      <td>2500.000000</td>\n",
       "      <td>2.500000</td>\n",
       "      <td>1375.500000</td>\n",
       "      <td>1375.000000</td>\n",
       "      <td>26.000000</td>\n",
       "    </tr>\n",
       "    <tr>\n",
       "      <th>50%</th>\n",
       "      <td>5000.000000</td>\n",
       "      <td>5.000000</td>\n",
       "      <td>2407.400000</td>\n",
       "      <td>3125.000000</td>\n",
       "      <td>51.000000</td>\n",
       "    </tr>\n",
       "    <tr>\n",
       "      <th>75%</th>\n",
       "      <td>7500.000000</td>\n",
       "      <td>7.500000</td>\n",
       "      <td>3127.800000</td>\n",
       "      <td>3125.000000</td>\n",
       "      <td>76.000000</td>\n",
       "    </tr>\n",
       "    <tr>\n",
       "      <th>max</th>\n",
       "      <td>10000.000000</td>\n",
       "      <td>10.000000</td>\n",
       "      <td>4199.100000</td>\n",
       "      <td>3125.000000</td>\n",
       "      <td>101.000000</td>\n",
       "    </tr>\n",
       "  </tbody>\n",
       "</table>\n",
       "</div>"
      ],
      "text/plain": [
       "        act_time_ms          time     n_des_gov    engine_rpm   act_tool_id\n",
       "count  10001.000000  10001.000000  10001.000000  10001.000000  10001.000000\n",
       "mean    5000.000000      5.049495   2261.000830   2250.087491     51.494951\n",
       "std     2887.184355      2.887049    920.129503    875.043745     28.870487\n",
       "min        0.000000      0.000000   1050.900000   1375.000000      1.000000\n",
       "25%     2500.000000      2.500000   1375.500000   1375.000000     26.000000\n",
       "50%     5000.000000      5.000000   2407.400000   3125.000000     51.000000\n",
       "75%     7500.000000      7.500000   3127.800000   3125.000000     76.000000\n",
       "max    10000.000000     10.000000   4199.100000   3125.000000    101.000000"
      ]
     },
     "execution_count": 29,
     "metadata": {},
     "output_type": "execute_result"
    }
   ],
   "source": [
    "data.describe()"
   ]
  }
 ],
 "metadata": {
  "kernelspec": {
   "display_name": "Python 3",
   "language": "python",
   "name": "python3"
  },
  "language_info": {
   "codemirror_mode": {
    "name": "ipython",
    "version": 3
   },
   "file_extension": ".py",
   "mimetype": "text/x-python",
   "name": "python",
   "nbconvert_exporter": "python",
   "pygments_lexer": "ipython3",
   "version": "3.6.5"
  }
 },
 "nbformat": 4,
 "nbformat_minor": 1
}
